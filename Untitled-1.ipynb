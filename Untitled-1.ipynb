{
 "cells": [
  {
   "cell_type": "code",
   "execution_count": 9,
   "metadata": {},
   "outputs": [
    {
     "data": {
      "text/plain": [
       "Index(['DIRECTORIO', 'SECUENCIA_ENCUESTA', 'SECUENCIA_P', 'ORDEN', 'FEX_C',\n",
       "       'P6160', 'P8586', 'P6218', 'P8587', 'P8587S1', 'P6211', 'P1088',\n",
       "       'P1088S1', 'P6216', 'P5673', 'P5674', 'P1101', 'P3336', 'P3336S1',\n",
       "       'P3336S2', 'P3336S3', 'P3336S4', 'P3336S5', 'P3336S6', 'P3336S7',\n",
       "       'P3514', 'P3514S1', 'P3514S2', 'P6223', 'P4693', 'P6167', 'P6180',\n",
       "       'P6180S1', 'P6180S2', 'P3337', 'P3337S1', 'P3338', 'P3339', 'P3339S1',\n",
       "       'P3339S2', 'P3339S3', 'P3339S4', 'P3339S5', 'P3339S6', 'P3340', 'P3341',\n",
       "       'P3341S1', 'P3342', 'P3342S1', 'P3343', 'P3343S1', 'P3344', 'P3344S1',\n",
       "       'P3345', 'P3345S1', 'P3346', 'P3346S1', 'P3347', 'P3347S1', 'P3348',\n",
       "       'P3348S1', 'P8610', 'P8610S1', 'P8610S2', 'P6229', 'P8612', 'P8612S1',\n",
       "       'P8612S2', 'P6238', 'P8614', 'P8614S1', 'P8614S2', 'P6202', 'P781',\n",
       "       'P781S1', 'P781S2', 'P782', 'P783', 'P3004', 'P3004S1', 'P3004S2',\n",
       "       'P3004S3', 'P3004S4', 'P3004S5', 'P3004S6', 'P3004S7', 'P3004S8'],\n",
       "      dtype='object')"
      ]
     },
     "execution_count": 9,
     "metadata": {},
     "output_type": "execute_result"
    }
   ],
   "source": [
    "df.columns"
   ]
  },
  {
   "cell_type": "code",
   "execution_count": 10,
   "metadata": {},
   "outputs": [
    {
     "name": "stdout",
     "output_type": "stream",
     "text": [
      "   DIRECTORIO  SECUENCIA_ENCUESTA  SECUENCIA_P  ORDEN       FEX_C  P6160  \\\n",
      "0     7787900                   1            1      1  143.618606      1   \n",
      "1     7787900                   2            1      2  143.618606      1   \n",
      "2     7787900                   3            1      3  143.618606      2   \n",
      "3     7787900                   4            1      4  143.618606      1   \n",
      "4     7787901                   1            1      1  273.731538      1   \n",
      "\n",
      "   P8586  P6218  P8587  P8587S1  ...  P783  P3004  P3004S1  P3004S2  P3004S3  \\\n",
      "0      2    NaN    5.0     11.0  ...   NaN    NaN      NaN      NaN      NaN   \n",
      "1      1    NaN    NaN      NaN  ...   NaN    NaN      NaN      NaN      NaN   \n",
      "2      1    NaN    NaN      NaN  ...   NaN    NaN      NaN      NaN      NaN   \n",
      "3      2    NaN    3.0      5.0  ...   NaN    NaN      NaN      NaN      NaN   \n",
      "4      2    NaN    5.0     11.0  ...   NaN    NaN      NaN      NaN      NaN   \n",
      "\n",
      "   P3004S4  P3004S5  P3004S6  P3004S7  P3004S8  \n",
      "0      NaN      NaN      NaN      NaN      NaN  \n",
      "1      NaN      1.0      NaN      1.0      NaN  \n",
      "2      NaN      1.0      NaN      1.0      NaN  \n",
      "3      NaN      NaN      NaN      NaN      NaN  \n",
      "4      NaN      NaN      NaN      NaN      NaN  \n",
      "\n",
      "[5 rows x 87 columns]\n",
      "<class 'pandas.core.frame.DataFrame'>\n",
      "RangeIndex: 234049 entries, 0 to 234048\n",
      "Data columns (total 87 columns):\n",
      " #   Column              Non-Null Count   Dtype  \n",
      "---  ------              --------------   -----  \n",
      " 0   DIRECTORIO          234049 non-null  int64  \n",
      " 1   SECUENCIA_ENCUESTA  234049 non-null  int64  \n",
      " 2   SECUENCIA_P         234049 non-null  int64  \n",
      " 3   ORDEN               234049 non-null  int64  \n",
      " 4   FEX_C               234049 non-null  float64\n",
      " 5   P6160               234049 non-null  int64  \n",
      " 6   P8586               234049 non-null  int64  \n",
      " 7   P6218               58809 non-null   float64\n",
      " 8   P8587               173907 non-null  float64\n",
      " 9   P8587S1             159095 non-null  float64\n",
      " 10  P6211               28675 non-null   float64\n",
      " 11  P1088               60142 non-null   float64\n",
      " 12  P1088S1             60142 non-null   float64\n",
      " 13  P6216               8176 non-null    float64\n",
      " 14  P5673               60142 non-null   float64\n",
      " 15  P5674               3293 non-null    float64\n",
      " 16  P1101               51966 non-null   float64\n",
      " 17  P3336               0 non-null       float64\n",
      " 18  P3336S1             60142 non-null   float64\n",
      " 19  P3336S2             60142 non-null   float64\n",
      " 20  P3336S3             60142 non-null   float64\n",
      " 21  P3336S4             51966 non-null   float64\n",
      " 22  P3336S5             51966 non-null   float64\n",
      " 23  P3336S6             51966 non-null   float64\n",
      " 24  P3336S7             51966 non-null   float64\n",
      " 25  P3514               60142 non-null   float64\n",
      " 26  P3514S1             3093 non-null    float64\n",
      " 27  P3514S2             3093 non-null    float64\n",
      " 28  P6223               60142 non-null   float64\n",
      " 29  P4693               58686 non-null   float64\n",
      " 30  P6167               58686 non-null   float64\n",
      " 31  P6180               58686 non-null   float64\n",
      " 32  P6180S1             27458 non-null   float64\n",
      " 33  P6180S2             27458 non-null   float64\n",
      " 34  P3337               51966 non-null   float64\n",
      " 35  P3337S1             27436 non-null   float64\n",
      " 36  P3338               51966 non-null   float64\n",
      " 37  P3339               0 non-null       float64\n",
      " 38  P3339S1             51966 non-null   float64\n",
      " 39  P3339S2             51966 non-null   float64\n",
      " 40  P3339S3             51966 non-null   float64\n",
      " 41  P3339S4             51966 non-null   float64\n",
      " 42  P3339S5             51966 non-null   float64\n",
      " 43  P3339S6             51966 non-null   float64\n",
      " 44  P3340               51966 non-null   float64\n",
      " 45  P3341               60142 non-null   float64\n",
      " 46  P3341S1             9696 non-null    float64\n",
      " 47  P3342               60142 non-null   float64\n",
      " 48  P3342S1             36611 non-null   float64\n",
      " 49  P3343               60142 non-null   float64\n",
      " 50  P3343S1             42527 non-null   float64\n",
      " 51  P3344               51966 non-null   float64\n",
      " 52  P3344S1             3232 non-null    float64\n",
      " 53  P3345               51966 non-null   float64\n",
      " 54  P3345S1             2337 non-null    float64\n",
      " 55  P3346               51966 non-null   float64\n",
      " 56  P3346S1             2270 non-null    float64\n",
      " 57  P3347               60142 non-null   float64\n",
      " 58  P3347S1             21199 non-null   float64\n",
      " 59  P3348               60142 non-null   float64\n",
      " 60  P3348S1             1873 non-null    float64\n",
      " 61  P8610               60142 non-null   float64\n",
      " 62  P8610S1             930 non-null     float64\n",
      " 63  P8610S2             930 non-null     float64\n",
      " 64  P6229               930 non-null     float64\n",
      " 65  P8612               60142 non-null   float64\n",
      " 66  P8612S1             1407 non-null    float64\n",
      " 67  P8612S2             1407 non-null    float64\n",
      " 68  P6238               1407 non-null    float64\n",
      " 69  P8614               60142 non-null   float64\n",
      " 70  P8614S1             353 non-null     float64\n",
      " 71  P8614S2             353 non-null     float64\n",
      " 72  P6202               353 non-null     float64\n",
      " 73  P781                55396 non-null   float64\n",
      " 74  P781S1              49916 non-null   float64\n",
      " 75  P781S2              2400 non-null    float64\n",
      " 76  P782                2400 non-null    float64\n",
      " 77  P783                2400 non-null    float64\n",
      " 78  P3004               0 non-null       float64\n",
      " 79  P3004S1             3659 non-null    float64\n",
      " 80  P3004S2             1064 non-null    float64\n",
      " 81  P3004S3             6109 non-null    float64\n",
      " 82  P3004S4             4729 non-null    float64\n",
      " 83  P3004S5             13748 non-null   float64\n",
      " 84  P3004S6             12353 non-null   float64\n",
      " 85  P3004S7             31743 non-null   float64\n",
      " 86  P3004S8             8155 non-null    float64\n",
      "dtypes: float64(81), int64(6)\n",
      "memory usage: 155.4 MB\n",
      "None\n",
      "Filas: 234049, Columnas: 87\n"
     ]
    }
   ],
   "source": [
    "import pandas as pd\n",
    "\n",
    "# Cargar los datos correctamente\n",
    "csv_path = r\"C:\\Users\\jotik\\Visual Studio\\Python\\Educacion\\Educacion.CSV\"\n",
    "df = pd.read_csv(csv_path, encoding='latin1', sep=';')\n",
    "\n",
    "# Mostrar las primeras 5 filas\n",
    "print(df.head())\n",
    "\n",
    "# Información general\n",
    "print(df.info())\n",
    "\n",
    "# Ver cuántas filas y columnas tiene\n",
    "print(f\"Filas: {df.shape[0]}, Columnas: {df.shape[1]}\")\n"
   ]
  },
  {
   "cell_type": "code",
   "execution_count": 11,
   "metadata": {},
   "outputs": [
    {
     "name": "stdout",
     "output_type": "stream",
     "text": [
      "DIRECTORIO              int64\n",
      "SECUENCIA_ENCUESTA      int64\n",
      "SECUENCIA_P             int64\n",
      "ORDEN                   int64\n",
      "FEX_C                 float64\n",
      "                       ...   \n",
      "P3004S4               float64\n",
      "P3004S5               float64\n",
      "P3004S6               float64\n",
      "P3004S7               float64\n",
      "P3004S8               float64\n",
      "Length: 87, dtype: object\n",
      "Variables Cuantitativas: Index(['DIRECTORIO', 'SECUENCIA_ENCUESTA', 'SECUENCIA_P', 'ORDEN', 'FEX_C',\n",
      "       'P6160', 'P8586', 'P6218', 'P8587', 'P8587S1', 'P6211', 'P1088',\n",
      "       'P1088S1', 'P6216', 'P5673', 'P5674', 'P1101', 'P3336', 'P3336S1',\n",
      "       'P3336S2', 'P3336S3', 'P3336S4', 'P3336S5', 'P3336S6', 'P3336S7',\n",
      "       'P3514', 'P3514S1', 'P3514S2', 'P6223', 'P4693', 'P6167', 'P6180',\n",
      "       'P6180S1', 'P6180S2', 'P3337', 'P3337S1', 'P3338', 'P3339', 'P3339S1',\n",
      "       'P3339S2', 'P3339S3', 'P3339S4', 'P3339S5', 'P3339S6', 'P3340', 'P3341',\n",
      "       'P3341S1', 'P3342', 'P3342S1', 'P3343', 'P3343S1', 'P3344', 'P3344S1',\n",
      "       'P3345', 'P3345S1', 'P3346', 'P3346S1', 'P3347', 'P3347S1', 'P3348',\n",
      "       'P3348S1', 'P8610', 'P8610S1', 'P8610S2', 'P6229', 'P8612', 'P8612S1',\n",
      "       'P8612S2', 'P6238', 'P8614', 'P8614S1', 'P8614S2', 'P6202', 'P781',\n",
      "       'P781S1', 'P781S2', 'P782', 'P783', 'P3004', 'P3004S1', 'P3004S2',\n",
      "       'P3004S3', 'P3004S4', 'P3004S5', 'P3004S6', 'P3004S7', 'P3004S8'],\n",
      "      dtype='object')\n",
      "Variables Categóricas: Index([], dtype='object')\n"
     ]
    }
   ],
   "source": [
    "# Ver tipos de datos\n",
    "print(df.dtypes)\n",
    "\n",
    "# Identificar variables numéricas (cuantitativas)\n",
    "num_cols = df.select_dtypes(include=['int64', 'float64']).columns\n",
    "print(\"Variables Cuantitativas:\", num_cols)\n",
    "\n",
    "# Identificar variables categóricas\n",
    "cat_cols = df.select_dtypes(include=['object']).columns\n",
    "print(\"Variables Categóricas:\", cat_cols)\n"
   ]
  },
  {
   "cell_type": "code",
   "execution_count": 25,
   "metadata": {},
   "outputs": [
    {
     "data": {
      "image/png": "[encoded data removed]",
      "text/plain": [
       "<Figure size 1200x600 with 1 Axes>"
      ]
     },
     "metadata": {},
     "output_type": "display_data"
    }
   ],
   "source": [
    "import matplotlib.pyplot as plt\n",
    "import seaborn as sns\n",
    "\n",
    "plt.figure(figsize=(12, 6))\n",
    "df[\"DIRECTORIO\"].value_counts().nlargest(30).plot(kind='bar')  # Muestra solo los 30 más comunes\n",
    "plt.xticks(rotation=90)\n",
    "plt.show()\n"
   ]
  },
  {
   "cell_type": "code",
   "execution_count": 13,
   "metadata": {},
   "outputs": [
    {
     "name": "stdout",
     "output_type": "stream",
     "text": [
      "DIRECTORIO                 0\n",
      "SECUENCIA_ENCUESTA         0\n",
      "SECUENCIA_P                0\n",
      "ORDEN                      0\n",
      "FEX_C                      0\n",
      "                       ...  \n",
      "P3004S4               229320\n",
      "P3004S5               220301\n",
      "P3004S6               221696\n",
      "P3004S7               202306\n",
      "P3004S8               225894\n",
      "Length: 87, dtype: int64\n"
     ]
    }
   ],
   "source": [
    "print(df.isnull().sum())\n"
   ]
  },
  {
   "cell_type": "code",
   "execution_count": 26,
   "metadata": {},
   "outputs": [
    {
     "name": "stdout",
     "output_type": "stream",
     "text": [
      "La columna P6218 tiene 175240 valores nulos.\n",
      "La columna P8587 tiene 60142 valores nulos.\n",
      "La columna P8587S1 tiene 74954 valores nulos.\n",
      "La columna P6211 tiene 205374 valores nulos.\n",
      "La columna P1088 tiene 173907 valores nulos.\n",
      "La columna P1088S1 tiene 173907 valores nulos.\n",
      "La columna P6216 tiene 225873 valores nulos.\n",
      "La columna P5673 tiene 173907 valores nulos.\n",
      "La columna P5674 tiene 230756 valores nulos.\n",
      "La columna P1101 tiene 182083 valores nulos.\n",
      "La columna P3336 tiene 234049 valores nulos.\n",
      "La columna P3336S1 tiene 173907 valores nulos.\n",
      "La columna P3336S2 tiene 173907 valores nulos.\n",
      "La columna P3336S3 tiene 173907 valores nulos.\n",
      "La columna P3336S4 tiene 182083 valores nulos.\n",
      "La columna P3336S5 tiene 182083 valores nulos.\n",
      "La columna P3336S6 tiene 182083 valores nulos.\n",
      "La columna P3336S7 tiene 182083 valores nulos.\n",
      "La columna P3514 tiene 173907 valores nulos.\n",
      "La columna P3514S1 tiene 230956 valores nulos.\n",
      "La columna P3514S2 tiene 230956 valores nulos.\n",
      "La columna P6223 tiene 173907 valores nulos.\n",
      "La columna P4693 tiene 175363 valores nulos.\n",
      "La columna P6167 tiene 175363 valores nulos.\n",
      "La columna P6180 tiene 175363 valores nulos.\n",
      "La columna P6180S1 tiene 206591 valores nulos.\n",
      "La columna P6180S2 tiene 206591 valores nulos.\n",
      "La columna P3337 tiene 182083 valores nulos.\n",
      "La columna P3337S1 tiene 206613 valores nulos.\n",
      "La columna P3338 tiene 182083 valores nulos.\n",
      "La columna P3339 tiene 234049 valores nulos.\n",
      "La columna P3339S1 tiene 182083 valores nulos.\n",
      "La columna P3339S2 tiene 182083 valores nulos.\n",
      "La columna P3339S3 tiene 182083 valores nulos.\n",
      "La columna P3339S4 tiene 182083 valores nulos.\n",
      "La columna P3339S5 tiene 182083 valores nulos.\n",
      "La columna P3339S6 tiene 182083 valores nulos.\n",
      "La columna P3340 tiene 182083 valores nulos.\n",
      "La columna P3341 tiene 173907 valores nulos.\n",
      "La columna P3341S1 tiene 224353 valores nulos.\n",
      "La columna P3342 tiene 173907 valores nulos.\n",
      "La columna P3342S1 tiene 197438 valores nulos.\n",
      "La columna P3343 tiene 173907 valores nulos.\n",
      "La columna P3343S1 tiene 191522 valores nulos.\n",
      "La columna P3344 tiene 182083 valores nulos.\n",
      "La columna P3344S1 tiene 230817 valores nulos.\n",
      "La columna P3345 tiene 182083 valores nulos.\n",
      "La columna P3345S1 tiene 231712 valores nulos.\n",
      "La columna P3346 tiene 182083 valores nulos.\n",
      "La columna P3346S1 tiene 231779 valores nulos.\n",
      "La columna P3347 tiene 173907 valores nulos.\n",
      "La columna P3347S1 tiene 212850 valores nulos.\n",
      "La columna P3348 tiene 173907 valores nulos.\n",
      "La columna P3348S1 tiene 232176 valores nulos.\n",
      "La columna P8610 tiene 173907 valores nulos.\n",
      "La columna P8610S1 tiene 233119 valores nulos.\n",
      "La columna P8610S2 tiene 233119 valores nulos.\n",
      "La columna P6229 tiene 233119 valores nulos.\n",
      "La columna P8612 tiene 173907 valores nulos.\n",
      "La columna P8612S1 tiene 232642 valores nulos.\n",
      "La columna P8612S2 tiene 232642 valores nulos.\n",
      "La columna P6238 tiene 232642 valores nulos.\n",
      "La columna P8614 tiene 173907 valores nulos.\n",
      "La columna P8614S1 tiene 233696 valores nulos.\n",
      "La columna P8614S2 tiene 233696 valores nulos.\n",
      "La columna P6202 tiene 233696 valores nulos.\n",
      "La columna P781 tiene 178653 valores nulos.\n",
      "La columna P781S1 tiene 184133 valores nulos.\n",
      "La columna P781S2 tiene 231649 valores nulos.\n",
      "La columna P782 tiene 231649 valores nulos.\n",
      "La columna P783 tiene 231649 valores nulos.\n",
      "La columna P3004 tiene 234049 valores nulos.\n",
      "La columna P3004S1 tiene 230390 valores nulos.\n",
      "La columna P3004S2 tiene 232985 valores nulos.\n",
      "La columna P3004S3 tiene 227940 valores nulos.\n",
      "La columna P3004S4 tiene 229320 valores nulos.\n",
      "La columna P3004S5 tiene 220301 valores nulos.\n",
      "La columna P3004S6 tiene 221696 valores nulos.\n",
      "La columna P3004S7 tiene 202306 valores nulos.\n",
      "La columna P3004S8 tiene 225894 valores nulos.\n"
     ]
    }
   ],
   "source": [
    "for col in num_cols:\n",
    "    if df[col].isna().sum() > 0:\n",
    "        print(f\"La columna {col} tiene {df[col].isna().sum()} valores nulos.\")\n"
   ]
  },
  {
   "cell_type": "code",
   "execution_count": 27,
   "metadata": {},
   "outputs": [],
   "source": [
    "df = df.dropna(subset=num_cols)  # Elimina filas con valores NaN en columnas numéricas\n"
   ]
  },
  {
   "cell_type": "code",
   "execution_count": 28,
   "metadata": {},
   "outputs": [],
   "source": [
    "num_cols = df.select_dtypes(include=['number']).columns\n"
   ]
  },
  {
   "cell_type": "code",
   "execution_count": 30,
   "metadata": {},
   "outputs": [
    {
     "name": "stdout",
     "output_type": "stream",
     "text": [
      "Filas antes de eliminar NaN: 0\n",
      "Filas después de eliminar NaN: 0\n"
     ]
    }
   ],
   "source": [
    "print(f\"Filas antes de eliminar NaN: {df.shape[0]}\")\n",
    "df = df.dropna(subset=num_cols)\n",
    "print(f\"Filas después de eliminar NaN: {df.shape[0]}\")\n"
   ]
  },
  {
   "cell_type": "code",
   "execution_count": 31,
   "metadata": {},
   "outputs": [
    {
     "name": "stdout",
     "output_type": "stream",
     "text": [
      "FEX_C      0\n",
      "P6160      0\n",
      "P8586      0\n",
      "P6218      0\n",
      "P8587      0\n",
      "          ..\n",
      "P3004S4    0\n",
      "P3004S5    0\n",
      "P3004S6    0\n",
      "P3004S7    0\n",
      "P3004S8    0\n",
      "Length: 83, dtype: int64\n",
      "       FEX_C  P6160  P8586  P6218  P8587  P8587S1  P6211  P1088  P1088S1  \\\n",
      "count    0.0    0.0    0.0    0.0    0.0      0.0    0.0    0.0      0.0   \n",
      "mean     NaN    NaN    NaN    NaN    NaN      NaN    NaN    NaN      NaN   \n",
      "std      NaN    NaN    NaN    NaN    NaN      NaN    NaN    NaN      NaN   \n",
      "min      NaN    NaN    NaN    NaN    NaN      NaN    NaN    NaN      NaN   \n",
      "25%      NaN    NaN    NaN    NaN    NaN      NaN    NaN    NaN      NaN   \n",
      "50%      NaN    NaN    NaN    NaN    NaN      NaN    NaN    NaN      NaN   \n",
      "75%      NaN    NaN    NaN    NaN    NaN      NaN    NaN    NaN      NaN   \n",
      "max      NaN    NaN    NaN    NaN    NaN      NaN    NaN    NaN      NaN   \n",
      "\n",
      "       P6216  ...  P783  P3004  P3004S1  P3004S2  P3004S3  P3004S4  P3004S5  \\\n",
      "count    0.0  ...   0.0    0.0      0.0      0.0      0.0      0.0      0.0   \n",
      "mean     NaN  ...   NaN    NaN      NaN      NaN      NaN      NaN      NaN   \n",
      "std      NaN  ...   NaN    NaN      NaN      NaN      NaN      NaN      NaN   \n",
      "min      NaN  ...   NaN    NaN      NaN      NaN      NaN      NaN      NaN   \n",
      "25%      NaN  ...   NaN    NaN      NaN      NaN      NaN      NaN      NaN   \n",
      "50%      NaN  ...   NaN    NaN      NaN      NaN      NaN      NaN      NaN   \n",
      "75%      NaN  ...   NaN    NaN      NaN      NaN      NaN      NaN      NaN   \n",
      "max      NaN  ...   NaN    NaN      NaN      NaN      NaN      NaN      NaN   \n",
      "\n",
      "       P3004S6  P3004S7  P3004S8  \n",
      "count      0.0      0.0      0.0  \n",
      "mean       NaN      NaN      NaN  \n",
      "std        NaN      NaN      NaN  \n",
      "min        NaN      NaN      NaN  \n",
      "25%        NaN      NaN      NaN  \n",
      "50%        NaN      NaN      NaN  \n",
      "75%        NaN      NaN      NaN  \n",
      "max        NaN      NaN      NaN  \n",
      "\n",
      "[8 rows x 83 columns]\n"
     ]
    }
   ],
   "source": [
    "print(df[num_cols].isna().sum())  # Si aparecen muchos NaN, significa que algo salió mal en la limpieza.\n",
    "print(df[num_cols].describe())  # Esto mostrará estadísticas básicas para ver si hay datos.\n"
   ]
  },
  {
   "cell_type": "code",
   "execution_count": 32,
   "metadata": {},
   "outputs": [
    {
     "name": "stdout",
     "output_type": "stream",
     "text": [
      "Columna FEX_C tiene 0 valores únicos\n",
      "Columna P6160 tiene 0 valores únicos\n",
      "Columna P8586 tiene 0 valores únicos\n",
      "Columna P6218 tiene 0 valores únicos\n",
      "Columna P8587 tiene 0 valores únicos\n",
      "Columna P8587S1 tiene 0 valores únicos\n",
      "Columna P6211 tiene 0 valores únicos\n",
      "Columna P1088 tiene 0 valores únicos\n",
      "Columna P1088S1 tiene 0 valores únicos\n",
      "Columna P6216 tiene 0 valores únicos\n",
      "Columna P5673 tiene 0 valores únicos\n",
      "Columna P5674 tiene 0 valores únicos\n",
      "Columna P1101 tiene 0 valores únicos\n",
      "Columna P3336 tiene 0 valores únicos\n",
      "Columna P3336S1 tiene 0 valores únicos\n",
      "Columna P3336S2 tiene 0 valores únicos\n",
      "Columna P3336S3 tiene 0 valores únicos\n",
      "Columna P3336S4 tiene 0 valores únicos\n",
      "Columna P3336S5 tiene 0 valores únicos\n",
      "Columna P3336S6 tiene 0 valores únicos\n",
      "Columna P3336S7 tiene 0 valores únicos\n",
      "Columna P3514 tiene 0 valores únicos\n",
      "Columna P3514S1 tiene 0 valores únicos\n",
      "Columna P3514S2 tiene 0 valores únicos\n",
      "Columna P6223 tiene 0 valores únicos\n",
      "Columna P4693 tiene 0 valores únicos\n",
      "Columna P6167 tiene 0 valores únicos\n",
      "Columna P6180 tiene 0 valores únicos\n",
      "Columna P6180S1 tiene 0 valores únicos\n",
      "Columna P6180S2 tiene 0 valores únicos\n",
      "Columna P3337 tiene 0 valores únicos\n",
      "Columna P3337S1 tiene 0 valores únicos\n",
      "Columna P3338 tiene 0 valores únicos\n",
      "Columna P3339 tiene 0 valores únicos\n",
      "Columna P3339S1 tiene 0 valores únicos\n",
      "Columna P3339S2 tiene 0 valores únicos\n",
      "Columna P3339S3 tiene 0 valores únicos\n",
      "Columna P3339S4 tiene 0 valores únicos\n",
      "Columna P3339S5 tiene 0 valores únicos\n",
      "Columna P3339S6 tiene 0 valores únicos\n",
      "Columna P3340 tiene 0 valores únicos\n",
      "Columna P3341 tiene 0 valores únicos\n",
      "Columna P3341S1 tiene 0 valores únicos\n",
      "Columna P3342 tiene 0 valores únicos\n",
      "Columna P3342S1 tiene 0 valores únicos\n",
      "Columna P3343 tiene 0 valores únicos\n",
      "Columna P3343S1 tiene 0 valores únicos\n",
      "Columna P3344 tiene 0 valores únicos\n",
      "Columna P3344S1 tiene 0 valores únicos\n",
      "Columna P3345 tiene 0 valores únicos\n",
      "Columna P3345S1 tiene 0 valores únicos\n",
      "Columna P3346 tiene 0 valores únicos\n",
      "Columna P3346S1 tiene 0 valores únicos\n",
      "Columna P3347 tiene 0 valores únicos\n",
      "Columna P3347S1 tiene 0 valores únicos\n",
      "Columna P3348 tiene 0 valores únicos\n",
      "Columna P3348S1 tiene 0 valores únicos\n",
      "Columna P8610 tiene 0 valores únicos\n",
      "Columna P8610S1 tiene 0 valores únicos\n",
      "Columna P8610S2 tiene 0 valores únicos\n",
      "Columna P6229 tiene 0 valores únicos\n",
      "Columna P8612 tiene 0 valores únicos\n",
      "Columna P8612S1 tiene 0 valores únicos\n",
      "Columna P8612S2 tiene 0 valores únicos\n",
      "Columna P6238 tiene 0 valores únicos\n",
      "Columna P8614 tiene 0 valores únicos\n",
      "Columna P8614S1 tiene 0 valores únicos\n",
      "Columna P8614S2 tiene 0 valores únicos\n",
      "Columna P6202 tiene 0 valores únicos\n",
      "Columna P781 tiene 0 valores únicos\n",
      "Columna P781S1 tiene 0 valores únicos\n",
      "Columna P781S2 tiene 0 valores únicos\n",
      "Columna P782 tiene 0 valores únicos\n",
      "Columna P783 tiene 0 valores únicos\n",
      "Columna P3004 tiene 0 valores únicos\n",
      "Columna P3004S1 tiene 0 valores únicos\n",
      "Columna P3004S2 tiene 0 valores únicos\n",
      "Columna P3004S3 tiene 0 valores únicos\n",
      "Columna P3004S4 tiene 0 valores únicos\n",
      "Columna P3004S5 tiene 0 valores únicos\n",
      "Columna P3004S6 tiene 0 valores únicos\n",
      "Columna P3004S7 tiene 0 valores únicos\n",
      "Columna P3004S8 tiene 0 valores únicos\n"
     ]
    }
   ],
   "source": [
    "for col in num_cols:\n",
    "    unique_values = df[col].nunique()\n",
    "    print(f\"Columna {col} tiene {unique_values} valores únicos\")\n"
   ]
  },
  {
   "cell_type": "code",
   "execution_count": 37,
   "metadata": {},
   "outputs": [],
   "source": [
    "df[num_cols] = df[num_cols].fillna(df[num_cols].median())\n"
   ]
  },
  {
   "cell_type": "code",
   "execution_count": 38,
   "metadata": {},
   "outputs": [],
   "source": [
    "for col in num_cols:\n",
    "    plt.figure(figsize=(6,4))\n",
    "    sns.boxplot(x=df[col].dropna())  # Asegura que no haya NaN\n",
    "    plt.title(f\"Boxplot de {col}\")\n",
    "    plt.show()\n"
   ]
  },
  {
   "cell_type": "code",
   "execution_count": 15,
   "metadata": {},
   "outputs": [
    {
     "name": "stdout",
     "output_type": "stream",
     "text": [
      "Shapiro-Wilk Test: p-value = 2.147025948342599e-99\n",
      "Los datos NO siguen una distribución normal\n"
     ]
    },
    {
     "name": "stderr",
     "output_type": "stream",
     "text": [
      "c:\\Users\\jotik\\miniconda3\\envs\\qw\\Lib\\site-packages\\scipy\\stats\\_axis_nan_policy.py:586: UserWarning: scipy.stats.shapiro: For N > 5000, computed p-value may not be accurate. Current N is 234049.\n",
      "  res = hypotest_fun_out(*samples, **kwds)\n"
     ]
    }
   ],
   "source": [
    "from scipy.stats import shapiro\n",
    "\n",
    "stat, p = shapiro(df[num_cols[0]].dropna())\n",
    "print(f\"Shapiro-Wilk Test: p-value = {p}\")\n",
    "if p > 0.05:\n",
    "    print(\"Los datos siguen una distribución normal\")\n",
    "else:\n",
    "    print(\"Los datos NO siguen una distribución normal\")\n"
   ]
  },
  {
   "cell_type": "code",
   "execution_count": 16,
   "metadata": {},
   "outputs": [
    {
     "ename": "IndexError",
     "evalue": "index 0 is out of bounds for axis 0 with size 0",
     "output_type": "error",
     "traceback": [
      "\u001b[1;31m---------------------------------------------------------------------------\u001b[0m",
      "\u001b[1;31mIndexError\u001b[0m                                Traceback (most recent call last)",
      "Cell \u001b[1;32mIn[16], line 3\u001b[0m\n\u001b[0;32m      1\u001b[0m \u001b[38;5;28;01mfrom\u001b[39;00m\u001b[38;5;250m \u001b[39m\u001b[38;5;21;01mscipy\u001b[39;00m\u001b[38;5;21;01m.\u001b[39;00m\u001b[38;5;21;01mstats\u001b[39;00m\u001b[38;5;250m \u001b[39m\u001b[38;5;28;01mimport\u001b[39;00m ttest_ind\n\u001b[1;32m----> 3\u001b[0m grupo1 \u001b[38;5;241m=\u001b[39m df[df[\u001b[43mcat_cols\u001b[49m\u001b[43m[\u001b[49m\u001b[38;5;241;43m0\u001b[39;49m\u001b[43m]\u001b[49m] \u001b[38;5;241m==\u001b[39m df[cat_cols[\u001b[38;5;241m0\u001b[39m]]\u001b[38;5;241m.\u001b[39munique()[\u001b[38;5;241m0\u001b[39m]][num_cols[\u001b[38;5;241m0\u001b[39m]]\n\u001b[0;32m      4\u001b[0m grupo2 \u001b[38;5;241m=\u001b[39m df[df[cat_cols[\u001b[38;5;241m0\u001b[39m]] \u001b[38;5;241m==\u001b[39m df[cat_cols[\u001b[38;5;241m0\u001b[39m]]\u001b[38;5;241m.\u001b[39munique()[\u001b[38;5;241m1\u001b[39m]][num_cols[\u001b[38;5;241m0\u001b[39m]]\n\u001b[0;32m      6\u001b[0m stat, p \u001b[38;5;241m=\u001b[39m ttest_ind(grupo1\u001b[38;5;241m.\u001b[39mdropna(), grupo2\u001b[38;5;241m.\u001b[39mdropna())\n",
      "File \u001b[1;32mc:\\Users\\jotik\\miniconda3\\envs\\qw\\Lib\\site-packages\\pandas\\core\\indexes\\base.py:5389\u001b[0m, in \u001b[0;36mIndex.__getitem__\u001b[1;34m(self, key)\u001b[0m\n\u001b[0;32m   5386\u001b[0m \u001b[38;5;28;01mif\u001b[39;00m is_integer(key) \u001b[38;5;129;01mor\u001b[39;00m is_float(key):\n\u001b[0;32m   5387\u001b[0m     \u001b[38;5;66;03m# GH#44051 exclude bool, which would return a 2d ndarray\u001b[39;00m\n\u001b[0;32m   5388\u001b[0m     key \u001b[38;5;241m=\u001b[39m com\u001b[38;5;241m.\u001b[39mcast_scalar_indexer(key)\n\u001b[1;32m-> 5389\u001b[0m     \u001b[38;5;28;01mreturn\u001b[39;00m \u001b[43mgetitem\u001b[49m\u001b[43m(\u001b[49m\u001b[43mkey\u001b[49m\u001b[43m)\u001b[49m\n\u001b[0;32m   5391\u001b[0m \u001b[38;5;28;01mif\u001b[39;00m \u001b[38;5;28misinstance\u001b[39m(key, \u001b[38;5;28mslice\u001b[39m):\n\u001b[0;32m   5392\u001b[0m     \u001b[38;5;66;03m# This case is separated from the conditional above to avoid\u001b[39;00m\n\u001b[0;32m   5393\u001b[0m     \u001b[38;5;66;03m# pessimization com.is_bool_indexer and ndim checks.\u001b[39;00m\n\u001b[0;32m   5394\u001b[0m     \u001b[38;5;28;01mreturn\u001b[39;00m \u001b[38;5;28mself\u001b[39m\u001b[38;5;241m.\u001b[39m_getitem_slice(key)\n",
      "\u001b[1;31mIndexError\u001b[0m: index 0 is out of bounds for axis 0 with size 0"
     ]
    }
   ],
   "source": [
    "from scipy.stats import ttest_ind\n",
    "\n",
    "grupo1 = df[df[cat_cols[0]] == df[cat_cols[0]].unique()[0]][num_cols[0]]\n",
    "grupo2 = df[df[cat_cols[0]] == df[cat_cols[0]].unique()[1]][num_cols[0]]\n",
    "\n",
    "stat, p = ttest_ind(grupo1.dropna(), grupo2.dropna())\n",
    "print(f\"T-test: p-value = {p}\")\n",
    "if p < 0.05:\n",
    "    print(\"Hay una diferencia estadísticamente significativa entre los grupos\")\n",
    "else:\n",
    "    print(\"No hay diferencia significativa\")\n"
   ]
  }
 ],
 "metadata": {
  "kernelspec": {
   "display_name": "qw",
   "language": "python",
   "name": "python3"
  },
  "language_info": {
   "codemirror_mode": {
    "name": "ipython",
    "version": 3
   },
   "file_extension": ".py",
   "mimetype": "text/x-python",
   "name": "python",
   "nbconvert_exporter": "python",
   "pygments_lexer": "ipython3",
   "version": "3.12.9"
  }
 },
 "nbformat": 4,
 "nbformat_minor": 2
}
